{
 "cells": [
  {
   "cell_type": "markdown",
   "metadata": {},
   "source": [
    "# 1. What does an empty dictionary&#39;s code look like?"
   ]
  },
  {
   "cell_type": "markdown",
   "metadata": {},
   "source": [
    "# Soluition 1\n"
   ]
  },
  {
   "cell_type": "markdown",
   "metadata": {},
   "source": [
    "### the dictionary is  written as cusrly braces and inside the curly braces we  have to write the data in the form of ke pairs like this,  \n",
    " \n",
    " ### my_dict={\"key\":\"value\"}  nad the  empy dictionary is  lokk like see below"
   ]
  },
  {
   "cell_type": "code",
   "execution_count": null,
   "metadata": {},
   "outputs": [],
   "source": [
    "my_dict = {} # This is a empty  dictionary"
   ]
  },
  {
   "cell_type": "markdown",
   "metadata": {},
   "source": [
    "## ----------------------------------------------------------------------------------------------\n"
   ]
  },
  {
   "cell_type": "markdown",
   "metadata": {},
   "source": [
    "# 2. What is the value of a dictionary value with the key &#39;foo&#39; and the value 42?"
   ]
  },
  {
   "cell_type": "markdown",
   "metadata": {},
   "source": [
    "# Solution 2"
   ]
  },
  {
   "cell_type": "markdown",
   "metadata": {},
   "source": [
    "### The value of a dictionary value with the key 'foo' and the value 42 is 42. In Python, dictionaries use key-value pairs to store and retrieve data. In this case, the key 'foo' is associated wit/h the value 42, so accessing the value using the key 'foo' will return 42."
   ]
  },
  {
   "cell_type": "code",
   "execution_count": 1,
   "metadata": {},
   "outputs": [
    {
     "name": "stdout",
     "output_type": "stream",
     "text": [
      "Value associated with the key 'foo': 42\n"
     ]
    }
   ],
   "source": [
    "my_dict = {'foo': 42}\n",
    "print(\"Value associated with the key 'foo':\", my_dict['foo'])\n"
   ]
  },
  {
   "cell_type": "markdown",
   "metadata": {},
   "source": [
    "## ----------------------------------------------------------------------------------------------\n"
   ]
  },
  {
   "cell_type": "markdown",
   "metadata": {},
   "source": [
    "# 3. What is the most significant distinction between a dictionary and a list?"
   ]
  },
  {
   "cell_type": "markdown",
   "metadata": {},
   "source": [
    "# Solution 3"
   ]
  },
  {
   "cell_type": "markdown",
   "metadata": {},
   "source": [
    "## Organization of Data:\n",
    "\n",
    "### List: Lists are ordered collections of elements where each element is identified by its position or index. Lists maintain the order of elements as they are inserted.\n",
    "### Dictionary: Dictionaries are unordered collections of key-value pairs. Each element in a dictionary is accessed by its key rather than by its position. Dictionaries do not maintain the order of elements.\n",
    "## Accessing Data:\n",
    "\n",
    "### List: To access an element in a list, you use its index. For example, my_list[0] would access the first element in the list.\n",
    "### Dictionary: To access a value in a dictionary, you use its associated key. For example, my_dict['key'] would access the value associated with the key 'key'"
   ]
  },
  {
   "cell_type": "code",
   "execution_count": 3,
   "metadata": {},
   "outputs": [
    {
     "name": "stdout",
     "output_type": "stream",
     "text": [
      "4\n"
     ]
    }
   ],
   "source": [
    "my_list=[1,2,3,4]\n",
    "\n",
    "print(my_list[3])"
   ]
  },
  {
   "cell_type": "code",
   "execution_count": 7,
   "metadata": {},
   "outputs": [
    {
     "name": "stdout",
     "output_type": "stream",
     "text": [
      "ajay\n"
     ]
    }
   ],
   "source": [
    "my_dict={\"name\":\"ajay\"}\n",
    "\n",
    "\n",
    "print(my_dict['name'])"
   ]
  },
  {
   "cell_type": "markdown",
   "metadata": {},
   "source": [
    "## ----------------------------------------------------------------------------------------------\n"
   ]
  },
  {
   "cell_type": "markdown",
   "metadata": {},
   "source": [
    "# 4. What happens if you try to access spam[&#39;foo&#39;] if spam is {&#39;bar&#39;: 100}?"
   ]
  },
  {
   "cell_type": "markdown",
   "metadata": {},
   "source": [
    "# Solution 4"
   ]
  },
  {
   "cell_type": "markdown",
   "metadata": {},
   "source": [
    "\n",
    "## If we try to access spam['foo'] where spam is { 'bar': 100 }, you will encounter a KeyError because the key 'foo' does not exist in the dictionary spam."
   ]
  },
  {
   "cell_type": "code",
   "execution_count": 8,
   "metadata": {},
   "outputs": [
    {
     "ename": "KeyError",
     "evalue": "'foo'",
     "output_type": "error",
     "traceback": [
      "\u001b[1;31m---------------------------------------------------------------------------\u001b[0m",
      "\u001b[1;31mKeyError\u001b[0m                                  Traceback (most recent call last)",
      "Cell \u001b[1;32mIn[8], line 2\u001b[0m\n\u001b[0;32m      1\u001b[0m spam\u001b[38;5;241m=\u001b[39m{\u001b[38;5;124m\"\u001b[39m\u001b[38;5;124mbar\u001b[39m\u001b[38;5;124m\"\u001b[39m:\u001b[38;5;241m100\u001b[39m}\n\u001b[1;32m----> 2\u001b[0m \u001b[38;5;28mprint\u001b[39m(\u001b[43mspam\u001b[49m\u001b[43m[\u001b[49m\u001b[38;5;124;43m'\u001b[39;49m\u001b[38;5;124;43mfoo\u001b[39;49m\u001b[38;5;124;43m'\u001b[39;49m\u001b[43m]\u001b[49m)\n",
      "\u001b[1;31mKeyError\u001b[0m: 'foo'"
     ]
    }
   ],
   "source": [
    "spam={\"bar\":100}\n",
    "print(spam['foo'])"
   ]
  },
  {
   "cell_type": "markdown",
   "metadata": {},
   "source": [
    "## ----------------------------------------------------------------------------------------------\n"
   ]
  },
  {
   "cell_type": "markdown",
   "metadata": {},
   "source": [
    "# 5. If a dictionary is stored in spam, what is the difference between the expressions &#39;cat&#39; in spam and\n",
    "&#39;cat&#39; in spam.keys()?"
   ]
  },
  {
   "cell_type": "markdown",
   "metadata": {},
   "source": [
    "# Solution 5"
   ]
  },
  {
   "cell_type": "markdown",
   "metadata": {},
   "source": [
    "###  The expressions 'cat' in spam and 'cat' in spam.keys() both check whether the key 'cat' exists in the dictionary spam. However, there is a difference in how they achieve this:\n",
    "\n",
    "## 'cat' in spam:\n",
    "\n",
    "### This expression checks if the key 'cat' exists directly in the dictionary spam.\n",
    "### It returns True if the key 'cat' exists in spam, and False otherwise.\n",
    "### This method directly checks if the key exists in the dictionary and is more concise.\n",
    "### 'cat' in spam.keys():\n",
    "\n",
    "#### This expression first retrieves all the keys of the dictionary spam using the keys() method, which returns a view object containing all the keys.\n",
    "#### Then, it checks if the key 'cat' exists in the list of keys obtained from spam.keys().\n",
    "#### It also returns True if the key 'cat' exists in spam, and False otherwise.\n",
    "#### This method explicitly retrieves all keys before performing the check and may be less efficient, especially for large dictionaries."
   ]
  },
  {
   "cell_type": "markdown",
   "metadata": {},
   "source": []
  },
  {
   "cell_type": "markdown",
   "metadata": {},
   "source": [
    "## ----------------------------------------------------------------------------------------------\n"
   ]
  },
  {
   "cell_type": "markdown",
   "metadata": {},
   "source": [
    "# 6. If a dictionary is stored in spam, what is the difference between the expressions &#39;cat&#39; in spam and &#39;cat&#39; in spam.values()?"
   ]
  },
  {
   "cell_type": "markdown",
   "metadata": {},
   "source": [
    "# Solution 6"
   ]
  },
  {
   "cell_type": "markdown",
   "metadata": {},
   "source": [
    "\n",
    "### The expressions 'cat' in spam and 'cat' in spam.values() both check for the presence of the value 'cat' within the dictionary spam, but they do so in different ways:\n",
    "\n",
    "### cat' in spam: This expression checks if 'cat' is a key in the dictionary spam. If 'cat' is one of the keys in spam, the expression evaluates to True; otherwise, it evaluates to False.\n",
    "\n",
    "### 'cat' in spam.values(): This expression checks if 'cat' is a value in the dictionary spam. If 'cat' is one of the values associated with any key in spam, the expression evaluates to True; otherwise, it evaluates to False."
   ]
  },
  {
   "cell_type": "markdown",
   "metadata": {},
   "source": [
    "## ----------------------------------------------------------------------------------------------\n"
   ]
  },
  {
   "cell_type": "markdown",
   "metadata": {},
   "source": [
    "# 7. What is a shortcut for the following code? if &#39;color&#39; not in spam spam[&#39;color&#39;] = &#39;black&#39;"
   ]
  },
  {
   "cell_type": "markdown",
   "metadata": {},
   "source": [
    "# Soluton 7"
   ]
  },
  {
   "cell_type": "markdown",
   "metadata": {},
   "source": [
    "###  A shortcut for the given code using dictionary's setdefault() method:"
   ]
  },
  {
   "cell_type": "code",
   "execution_count": 9,
   "metadata": {},
   "outputs": [
    {
     "data": {
      "text/plain": [
       "'black'"
      ]
     },
     "execution_count": 9,
     "metadata": {},
     "output_type": "execute_result"
    }
   ],
   "source": [
    "spam.setdefault('color', 'black')"
   ]
  },
  {
   "cell_type": "markdown",
   "metadata": {},
   "source": [
    "### This line of code checks if the key 'color' is not in the dictionary spam, and if not, it adds the key 'color' with the value 'black'. If the key 'color' already exists in spam, it does not modify the dictionary."
   ]
  },
  {
   "cell_type": "markdown",
   "metadata": {},
   "source": [
    "## ----------------------------------------------------------------------------------------------\n"
   ]
  },
  {
   "cell_type": "markdown",
   "metadata": {},
   "source": [
    "# 8. How do you &quot;pretty print&quot; dictionary values using which module and function?"
   ]
  },
  {
   "cell_type": "markdown",
   "metadata": {},
   "source": [
    "# Solution 8\n"
   ]
  },
  {
   "cell_type": "markdown",
   "metadata": {},
   "source": [
    "###  To \"pretty print\" dictionary values in Python, you can use the pprint module's pprint() function. This function provides a convenient way to display dictionary values in a more readable format."
   ]
  },
  {
   "cell_type": "code",
   "execution_count": 10,
   "metadata": {},
   "outputs": [
    {
     "name": "stdout",
     "output_type": "stream",
     "text": [
      "{'age': 30,\n",
      " 'city': 'New York',\n",
      " 'name': 'John',\n",
      " 'pets': {'cat': 'Whiskers', 'dog': 'Max'}}\n"
     ]
    }
   ],
   "source": [
    "import pprint\n",
    "\n",
    "# Example dictionary\n",
    "my_dict = {\n",
    "    'name': 'John',\n",
    "    'age': 30,\n",
    "    'city': 'New York',\n",
    "    'pets': {\n",
    "        'dog': 'Max',\n",
    "        'cat': 'Whiskers'\n",
    "    }\n",
    "}\n",
    "\n",
    "# Pretty print the dictionary\n",
    "pprint.pprint(my_dict)\n"
   ]
  },
  {
   "cell_type": "markdown",
   "metadata": {},
   "source": []
  }
 ],
 "metadata": {
  "kernelspec": {
   "display_name": "Python 3",
   "language": "python",
   "name": "python3"
  },
  "language_info": {
   "codemirror_mode": {
    "name": "ipython",
    "version": 3
   },
   "file_extension": ".py",
   "mimetype": "text/x-python",
   "name": "python",
   "nbconvert_exporter": "python",
   "pygments_lexer": "ipython3",
   "version": "3.11.4"
  }
 },
 "nbformat": 4,
 "nbformat_minor": 2
}
